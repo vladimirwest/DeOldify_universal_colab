{
  "nbformat": 4,
  "nbformat_minor": 0,
  "metadata": {
    "colab": {
      "name": "Deoldify.ipynb",
      "provenance": [],
      "collapsed_sections": [],
      "authorship_tag": "ABX9TyOv15/KK1US6tzhage/y8eL",
      "include_colab_link": true
    },
    "kernelspec": {
      "name": "python3",
      "display_name": "Python 3"
    },
    "accelerator": "GPU"
  },
  "cells": [
    {
      "cell_type": "markdown",
      "metadata": {
        "id": "view-in-github",
        "colab_type": "text"
      },
      "source": [
        "<a href=\"https://colab.research.google.com/github/vladimirwest/DeOldify_universal_colab/blob/master/deoldify_universal.ipynb\" target=\"_parent\"><img src=\"https://colab.research.google.com/assets/colab-badge.svg\" alt=\"Open In Colab\"/></a>"
      ]
    },
    {
      "cell_type": "markdown",
      "metadata": {
        "id": "XE3J3pCZtfH6",
        "colab_type": "text"
      },
      "source": [
        "#◢ DeOldify - Colorize your own photos!\n",
        "\n",
        "####**Credits:**\n",
        "Original repo - https://github.com/jantic/DeOldify  \n",
        "Used repo - https://github.com/tg-bomze/ENTAR  \n",
        "My github [@vladimirwest](https://github.com/vladimirwest)\n",
        "\n",
        "This is universial colab notebook for videos, photos and photos archieves conversion."
      ]
    },
    {
      "cell_type": "markdown",
      "metadata": {
        "id": "GE3M9Wv4uBu6",
        "colab_type": "text"
      },
      "source": [
        "\n",
        "\n",
        "---\n",
        "\n",
        "\n",
        "#◢ Verify Correct Runtime Settings\n",
        "\n",
        "**<font color='#FF000'> IMPORTANT </font>**\n",
        "\n",
        "In the \"Runtime\" menu for the notebook window, select \"Change runtime type.\" Ensure that the following are selected:\n",
        "* Runtime Type = Python 3\n",
        "* Hardware Accelerator = GPU \n"
      ]
    },
    {
      "cell_type": "code",
      "metadata": {
        "id": "x1QfPCb0uAY5",
        "colab_type": "code",
        "colab": {}
      },
      "source": [
        "#@title ##**Libraries and environment installation** { display-mode: \"form\" }\n",
        "#@markdown *Download pre-trained models and clone the repo.*\n",
        "\n",
        "\n",
        "!git clone https://github.com/jantic/DeOldify.git DeOldify\n",
        "%cd DeOldify\n",
        "#NOTE:  This must be the first call in order to work properly!\n",
        "from deoldify import device\n",
        "from deoldify.device_id import DeviceId\n",
        "#choices:  CPU, GPU0...GPU7\n",
        "device.set(device=DeviceId.GPU0)\n",
        "\n",
        "import torch\n",
        "\n",
        "if not torch.cuda.is_available():\n",
        "    print('GPU not available.')\n",
        "\n",
        "!pip install -r colab_requirements.txt\n",
        "\n",
        "import fastai\n",
        "from deoldify.visualize import *\n",
        "from IPython.display import clear_output\n",
        "from google.colab import files\n",
        "from pathlib import Path\n",
        "\n",
        "clear_output()\n",
        "print('Done!')"
      ],
      "execution_count": 0,
      "outputs": []
    },
    {
      "cell_type": "code",
      "metadata": {
        "id": "gsCRy5QZv__K",
        "colab_type": "code",
        "colab": {}
      },
      "source": [
        "#@title ##**File load** { display-mode: \"form\" }\n",
        "#@markdown *Enter a link to the file below (for example, YouTube video), or leave the ** source_url ** field blank (in this case, you will be prompted to download the file from your computer).*  \n",
        "#  @markdown Supported types:\n",
        "#@markdown *  .zip - archive with pictures\n",
        "#@markdown *  .mp4\n",
        "#@markdown *  .png or .jpg\n",
        "#  @markdown \n",
        "source_url = '' #@param {type:\"string\"}\n",
        "\n",
        "if source_url == '':\n",
        "  uploaded = files.upload()\n",
        "  for fn in uploaded.keys():\n",
        "    print('User uploaded file \"{name}\" with length {length} bytes'.format(\n",
        "        name=fn, length=len(uploaded[fn])))\n",
        "  file_ext = fn.split(\".\")[-1]\n",
        "  file_name = \"downloaded.\" + file_ext\n",
        "  if(file_ext =='jpg' or file_ext == 'png'):\n",
        "    file_type = 'image'\n",
        "  elif(file_ext =='mp4'):\n",
        "    file_type = 'video'\n",
        "  elif(file_ext =='zip'):\n",
        "    file_type = 'zip'\n",
        "  else:\n",
        "    file_type = 'other'\n",
        "  !mv -f $fn $file_name\n",
        "\n",
        "else:\n",
        "  try:\n",
        "    ydl_opts = {\n",
        "        'format': 'bestvideo[ext=mp4]+bestaudio[ext=m4a]/mp4',\n",
        "        'outtmpl': 'downloaded.mp4',\n",
        "        }\n",
        "    with youtube_dl.YoutubeDL(ydl_opts) as ydl:\n",
        "      ydl.download([source_url])\n",
        "    file_name = 'downloaded.mp4'\n",
        "    file_type = 'video'\n",
        "  \n",
        "  except BaseException:\n",
        "    !wget $source_url\n",
        "    fn = source_url.split('/')[-1]\n",
        "    file_ext = fn.split(\".\")[-1]\n",
        "    file_name = \"downloaded.\" + file_ext\n",
        "    !mv -f $fn $file_name\n",
        "    if(file_ext =='jpg' or file_ext == 'png'):\n",
        "      file_type = 'image'\n",
        "    elif(file_ext =='mp4'):\n",
        "      file_type = 'video'\n",
        "    elif(file_ext =='zip'):\n",
        "      file_type = 'zip'\n",
        "    else:\n",
        "      file_type = 'other'\n",
        "\n",
        "clear_output()\n",
        "print(file_type)\n",
        "print('Done!')\n",
        "\n",
        "if not os.path.exists('models'):\n",
        "  if(file_type == 'image' or file_type == 'zip'):\n",
        "    !mkdir 'models'\n",
        "    print('Downloading model weights..')\n",
        "    !wget https://www.dropbox.com/s/zkehq1uwahhbc2o/ColorizeArtistic_gen.pth?dl=0 -O ./models/ColorizeArtistic_gen.pth\n",
        "  elif(file_type == 'video'):\n",
        "    !mkdir 'models'\n",
        "    print('Downloading model weights..')\n",
        "    !wget https://www.dropbox.com/s/336vn9y4qwyg9yz/ColorizeVideo_gen.pth?dl=0 -O ./models/ColorizeVideo_gen.pth\n",
        "clear_output()\n",
        "print('Done!')\n"
      ],
      "execution_count": 0,
      "outputs": []
    },
    {
      "cell_type": "code",
      "metadata": {
        "id": "wCQYNCU1mo3i",
        "colab_type": "code",
        "colab": {}
      },
      "source": [
        "#@title ##**Crop video (Optional block)** { display-mode: \"form\" }\n",
        "if(file_type == 'video'):\n",
        "  import moviepy.editor as mpy\n",
        "  #@markdown *Here you can crop the video if it is too long.*\n",
        "\n",
        "  #@markdown **Enter the time frame for croping the video**\n",
        "  target_start = '00:00:00' #@param {type:\"string\"}\n",
        "  target_end = '00:00:10' #@param {type:\"string\"}\n",
        "\n",
        "  #@markdown Enter a new resolution of the video file for rescaling (*for example, 640 and 480*), or leave it blank to work with the original resolution\n",
        "  width = '' #@param {type:\"string\"}\n",
        "  height = '' #@param {type:\"string\"}\n",
        "\n",
        "  rescale = \"\"\n",
        "  if width != '' and height != '':\n",
        "    rescale = f\"-s {width}x{height}\"\n",
        "\n",
        "  !ffmpeg -i downloaded.mp4 $rescale -ss $target_start -to $target_end new_target.mp4\n",
        "  clear_output()\n",
        "  print('Done!')\n",
        "  !mv new_target.mp4 downloaded.mp4\n",
        "  #@markdown *Display video:*\n",
        "  display_video = True #@param {type:\"boolean\"}\n",
        "  if display_video == True:\n",
        "    display(mpy.ipython_display(\"downloaded.mp4\", height=360))\n",
        "else:\n",
        "  print('File is not video, skipping..')"
      ],
      "execution_count": 0,
      "outputs": []
    },
    {
      "cell_type": "code",
      "metadata": {
        "id": "B7wHmb7ww_PP",
        "colab_type": "code",
        "colab": {}
      },
      "source": [
        "#@title ##**Colorize:** { display-mode: \"form\" }\n",
        "from os import listdir\n",
        "#@markdown *Download converted file:*\n",
        "download_file = True #@param {type:\"boolean\"} \n",
        "if(file_type == 'image'):\n",
        "  colorizer = get_image_colorizer(artistic=True)\n",
        "  clear_output()\n",
        "  render_factor = 35\n",
        "  image_path = colorizer.plot_transformed_image(path=file_name, render_factor=render_factor, compare=True)\n",
        "  show_image_in_notebook(image_path)\n",
        "  if(download_file):\n",
        "    !zip -r -o converted_image.zip $image_path\n",
        "  files.download('converted_image.zip')\n",
        "\n",
        "elif(file_type == 'video'):\n",
        "  !rm -rf video\n",
        "  !mkdir 'video'\n",
        "  !mkdir 'video/source'\n",
        "  !mv downloaded.mp4 video/source/downloaded.mp4\n",
        "  colorizer = get_video_colorizer()\n",
        "  clear_output()\n",
        "  render_factor = 21\n",
        "  video_path = colorizer.colorize_from_file_name(file_name, render_factor=render_factor, watermarked = False, post_process = False)\n",
        "  show_video_in_notebook(video_path)\n",
        "  if(download_file):\n",
        "    !mv video/result/downloaded.mp4 video/result/converted_video.mp4\n",
        "    !zip -r -o converted_video.zip video/result/converted_video.mp4\n",
        "    files.download('converted_video.zip')\n",
        "\n",
        "elif(file_type == 'zip'):\n",
        "  colorizer = get_image_colorizer(artistic=True)\n",
        "  render_factor = 35\n",
        "  clear_output()\n",
        "  print('Unzipping files, please wait')\n",
        "  !unzip -o $file_name -d 'images_folder'\n",
        "  types = ('*.jpg', '*.png') # the tuple of file types\n",
        "  files_grabbed = []\n",
        "  for files_ in types:\n",
        "    files_grabbed.extend(Path('images_folder').rglob(files_))\n",
        "  for file_ in files_grabbed:\n",
        "    image_path = colorizer.plot_transformed_image(path=file_, render_factor=render_factor, compare=True)\n",
        "  #show_image_in_notebook(image_path)\n",
        "  !zip -r -o converted_images.zip result_images\n",
        "  files.download('converted_images.zip')\n",
        "\n",
        "else:\n",
        "  print('Wrong file extension, please try another file!')  \n",
        "\n",
        "\n"
      ],
      "execution_count": 0,
      "outputs": []
    },
    {
      "cell_type": "code",
      "metadata": {
        "id": "jOlMmLF31URj",
        "colab_type": "code",
        "colab": {}
      },
      "source": [
        ""
      ],
      "execution_count": 0,
      "outputs": []
    }
  ]
}